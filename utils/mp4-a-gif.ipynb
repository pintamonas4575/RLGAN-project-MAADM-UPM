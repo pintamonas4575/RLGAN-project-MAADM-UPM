{
 "cells": [
  {
   "cell_type": "code",
   "execution_count": 2,
   "metadata": {},
   "outputs": [
    {
     "name": "stdout",
     "output_type": "stream",
     "text": [
      "{'video_found': True, 'audio_found': False, 'metadata': {'major_brand': 'isom', 'minor_version': '512', 'compatible_brands': 'isomiso2avc1mp41', 'encoder': 'Lavf58.29.100'}, 'inputs': [{'streams': [{'input_number': 0, 'stream_number': 0, 'stream_type': 'video', 'language': None, 'default': True, 'size': [600, 400], 'bitrate': 69, 'fps': 50.0, 'codec_name': 'h264', 'profile': '(High)', 'metadata': {'handler_name': 'VideoHandler'}}], 'input_number': 0}], 'duration': 4.36, 'bitrate': 75, 'start': 0.0, 'default_video_input_number': 0, 'default_video_stream_number': 0, 'video_codec_name': 'h264', 'video_profile': '(High)', 'video_size': [600, 400], 'video_bitrate': 69, 'video_fps': 50.0, 'video_duration': 4.36, 'video_n_frames': 218}\n",
      "c:\\Users\\aleja\\workspace\\RLGAN-project-MAADM-UPM\\.venv_torch\\Lib\\site-packages\\imageio_ffmpeg\\binaries\\ffmpeg-win64-v4.2.2.exe -i ../results_p1/videos/LL-AG-3000-episode-7.mp4 -loglevel error -f image2pipe -vf scale=600:400 -sws_flags bicubic -pix_fmt rgb24 -vcodec rawvideo -\n",
      "{'video_found': True, 'audio_found': False, 'metadata': {'major_brand': 'isom', 'minor_version': '512', 'compatible_brands': 'isomiso2avc1mp41', 'encoder': 'Lavf58.29.100'}, 'inputs': [{'streams': [{'input_number': 0, 'stream_number': 0, 'stream_type': 'video', 'language': None, 'default': True, 'size': [600, 400], 'bitrate': 59, 'fps': 50.0, 'codec_name': 'h264', 'profile': '(High)', 'metadata': {'handler_name': 'VideoHandler'}}], 'input_number': 0}], 'duration': 8.24, 'bitrate': 64, 'start': 0.0, 'default_video_input_number': 0, 'default_video_stream_number': 0, 'video_codec_name': 'h264', 'video_profile': '(High)', 'video_size': [600, 400], 'video_bitrate': 59, 'video_fps': 50.0, 'video_duration': 8.24, 'video_n_frames': 412}\n",
      "c:\\Users\\aleja\\workspace\\RLGAN-project-MAADM-UPM\\.venv_torch\\Lib\\site-packages\\imageio_ffmpeg\\binaries\\ffmpeg-win64-v4.2.2.exe -i ../results_p1/videos/LL-DQN-10000-episode-6.mp4 -loglevel error -f image2pipe -vf scale=600:400 -sws_flags bicubic -pix_fmt rgb24 -vcodec rawvideo -\n",
      "{'video_found': True, 'audio_found': False, 'metadata': {'major_brand': 'isom', 'minor_version': '512', 'compatible_brands': 'isomiso2avc1mp41', 'encoder': 'Lavf58.29.100'}, 'inputs': [{'streams': [{'input_number': 0, 'stream_number': 0, 'stream_type': 'video', 'language': None, 'default': True, 'size': [600, 400], 'bitrate': 70, 'fps': 50.0, 'codec_name': 'h264', 'profile': '(High)', 'metadata': {'handler_name': 'VideoHandler'}}], 'input_number': 0}], 'duration': 20.0, 'bitrate': 75, 'start': 0.0, 'default_video_input_number': 0, 'default_video_stream_number': 0, 'video_codec_name': 'h264', 'video_profile': '(High)', 'video_size': [600, 400], 'video_bitrate': 70, 'video_fps': 50.0, 'video_duration': 20.0, 'video_n_frames': 1000}\n",
      "c:\\Users\\aleja\\workspace\\RLGAN-project-MAADM-UPM\\.venv_torch\\Lib\\site-packages\\imageio_ffmpeg\\binaries\\ffmpeg-win64-v4.2.2.exe -i ../results_p1/videos/LL-PPO-episode-2.mp4 -loglevel error -f image2pipe -vf scale=600:400 -sws_flags bicubic -pix_fmt rgb24 -vcodec rawvideo -\n",
      "{'video_found': True, 'audio_found': False, 'metadata': {'major_brand': 'isom', 'minor_version': '512', 'compatible_brands': 'isomiso2avc1mp41', 'encoder': 'Lavf58.29.100'}, 'inputs': [{'streams': [{'input_number': 0, 'stream_number': 0, 'stream_type': 'video', 'language': None, 'default': True, 'size': [288, 512], 'bitrate': 114, 'fps': 30.0, 'codec_name': 'h264', 'profile': '(High)', 'metadata': {'handler_name': 'VideoHandler'}}], 'input_number': 0}], 'duration': 5.6, 'bitrate': 118, 'start': 0.0, 'default_video_input_number': 0, 'default_video_stream_number': 0, 'video_codec_name': 'h264', 'video_profile': '(High)', 'video_size': [288, 512], 'video_bitrate': 114, 'video_fps': 30.0, 'video_duration': 5.6, 'video_n_frames': 168}\n",
      "c:\\Users\\aleja\\workspace\\RLGAN-project-MAADM-UPM\\.venv_torch\\Lib\\site-packages\\imageio_ffmpeg\\binaries\\ffmpeg-win64-v4.2.2.exe -i ../results_p1/videos/FB-AG-5000-episode-4.mp4 -loglevel error -f image2pipe -vf scale=288:512 -sws_flags bicubic -pix_fmt rgb24 -vcodec rawvideo -\n",
      "{'video_found': True, 'audio_found': False, 'metadata': {'major_brand': 'isom', 'minor_version': '512', 'compatible_brands': 'isomiso2avc1mp41', 'encoder': 'Lavf58.29.100'}, 'inputs': [{'streams': [{'input_number': 0, 'stream_number': 0, 'stream_type': 'video', 'language': None, 'default': True, 'size': [288, 512], 'bitrate': 114, 'fps': 30.0, 'codec_name': 'h264', 'profile': '(High)', 'metadata': {'handler_name': 'VideoHandler'}}], 'input_number': 0}], 'duration': 37.4, 'bitrate': 116, 'start': 0.0, 'default_video_input_number': 0, 'default_video_stream_number': 0, 'video_codec_name': 'h264', 'video_profile': '(High)', 'video_size': [288, 512], 'video_bitrate': 114, 'video_fps': 30.0, 'video_duration': 37.4, 'video_n_frames': 1122}\n",
      "c:\\Users\\aleja\\workspace\\RLGAN-project-MAADM-UPM\\.venv_torch\\Lib\\site-packages\\imageio_ffmpeg\\binaries\\ffmpeg-win64-v4.2.2.exe -i ../results_p1/videos/FB-PPO-episode-4.mp4 -loglevel error -f image2pipe -vf scale=288:512 -sws_flags bicubic -pix_fmt rgb24 -vcodec rawvideo -\n"
     ]
    }
   ],
   "source": [
    "from moviepy import VideoFileClip\n",
    "\n",
    "origin_folder = \"../results_p1/videos\"\n",
    "output_folder = \"../assets\"\n",
    "list_videos = [\"LL-AG-3000-episode-7\", \"LL-DQN-10000-episode-6\", \"LL-PPO-episode-2\", \"FB-AG-5000-episode-4\", \"FB-PPO-episode-4\"]\n",
    "\n",
    "for video_name in list_videos:\n",
    "    clip = VideoFileClip(f\"{origin_folder}/{video_name}.mp4\")\n",
    "    clip.write_gif(f\"{output_folder}/{video_name}.gif\", fps=40, logger=None)\n",
    "    clip.close()"
   ]
  }
 ],
 "metadata": {
  "accelerator": "GPU",
  "colab": {
   "name": "dcgan.ipynb",
   "provenance": [],
   "toc_visible": true
  },
  "kernelspec": {
   "display_name": ".venv_torch",
   "language": "python",
   "name": "python3"
  },
  "language_info": {
   "codemirror_mode": {
    "name": "ipython",
    "version": 3
   },
   "file_extension": ".py",
   "mimetype": "text/x-python",
   "name": "python",
   "nbconvert_exporter": "python",
   "pygments_lexer": "ipython3",
   "version": "3.11.6"
  },
  "toc": {
   "base_numbering": 1,
   "nav_menu": {},
   "number_sections": true,
   "sideBar": true,
   "skip_h1_title": false,
   "title_cell": "Table of Contents",
   "title_sidebar": "Contents",
   "toc_cell": false,
   "toc_position": {
    "height": "calc(100% - 180px)",
    "left": "10px",
    "top": "150px",
    "width": "577px"
   },
   "toc_section_display": true,
   "toc_window_display": true
  }
 },
 "nbformat": 4,
 "nbformat_minor": 4
}
