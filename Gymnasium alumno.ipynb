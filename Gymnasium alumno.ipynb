{
 "cells": [
  {
   "attachments": {},
   "cell_type": "markdown",
   "id": "3ce62d5d",
   "metadata": {},
   "source": [
    "### Documentación\n",
    "\n",
    "Problemas interesantes para Aprendizaje por refuerzo\n",
    " * Gymnasium: https://gymnasium.farama.org/environments/box2d/"
   ]
  },
  {
   "attachments": {},
   "cell_type": "markdown",
   "id": "57c172cf-929c-4be0-b79e-d3da9d17c343",
   "metadata": {},
   "source": [
    "## Instalación\n",
    "\n",
    "!pip install gymnasium  \n",
    "!pip install gymnasium[box2d] \n",
    "\n",
    "## Acciones adicionales\n",
    "\n",
    "### En macos\n",
    "\n",
    "pip uninstall swig  \n",
    "xcode-select -—install (si no se tienen ya)  \n",
    "pip install swig  / sudo port install swig-python\n",
    "pip install 'gymnasium[box2d]' # en zsh hay que poner las comillas  \n",
    "\n",
    "### en Windows\n",
    "\n",
    "Si da error, se debe a la falta de la versión correcta de Microsoft Visual C++ Build Tools, que es una dependencia de Box2D. Para solucionar este problema, puede seguir los siguientes pasos:  \n",
    " * Descargar Microsoft Visual C++ Build Tools desde https://visualstudio.microsoft.com/visual-cpp-build-tools/.\n",
    " * Dentro de la app, seleccione la opción \"Herramientas de compilación de C++\" para instalar.\n",
    " * Reinicie su sesión en Jupyter Notebook.\n",
    " * Ejecute nuevamente el comando !pip install gymnasium[box2d] en la línea de comandos de su notebook."
   ]
  },
  {
   "cell_type": "code",
   "execution_count": 1,
   "id": "e2e7a384-a993-4330-b213-03d2f02ed3ab",
   "metadata": {},
   "outputs": [],
   "source": [
    "# prueba lunar lander por humano\n",
    "\n",
    "import gymnasium as gym\n",
    "\n",
    "env = gym.make(\"LunarLander-v2\", render_mode=\"rgb_array\")\n",
    "\n",
    "import numpy as np\n",
    "import pygame\n",
    "import gymnasium.utils.play\n",
    "\n",
    "lunar_lander_keys = {\n",
    "    (pygame.K_UP,): 2,\n",
    "    (pygame.K_LEFT,): 1,\n",
    "    (pygame.K_RIGHT,): 3,\n",
    "}\n",
    "gymnasium.utils.play.play(env, zoom=3, keys_to_action=lunar_lander_keys, noop=0)"
   ]
  },
  {
   "cell_type": "code",
   "execution_count": null,
   "id": "872b9955",
   "metadata": {},
   "outputs": [],
   "source": [
    "# neuroevolución\n",
    "\n",
    "# construir modelo\n",
    "model = ***\n",
    "ch = ***\n",
    "model.from_chromosome(ch)\n",
    "\n",
    "# pasar al modelo los pesos del mejor cromosoma obtenido con neuroevolución\n",
    "\n",
    "# definir política\n",
    "def policy (observation):\n",
    "    s = model.forward(observation)\n",
    "    action = np.argmax(s)\n",
    "    return action"
   ]
  },
  {
   "cell_type": "code",
   "execution_count": null,
   "id": "40a50806",
   "metadata": {},
   "outputs": [],
   "source": [
    "# prueba lunar lander por agente\n",
    "\n",
    "import gymnasium as gym\n",
    "\n",
    "env = gym.make(\"LunarLander-v2\", render_mode=\"human\")\n",
    "\n",
    "def run ():\n",
    "    #observation, info = env.reset(seed=42)\n",
    "    observation, info = env.reset()\n",
    "    ite = 0\n",
    "    racum = 0\n",
    "    while True:\n",
    "        action = policy(observation)\n",
    "        observation, reward, terminated, truncated, info = env.step(action)\n",
    "        \n",
    "        racum += reward\n",
    "\n",
    "        if terminated or truncated:\n",
    "            r = (racum+200) / 500\n",
    "            print(racum, r)\n",
    "            return racum\n",
    "    \n",
    "#run()"
   ]
  },
  {
   "cell_type": "code",
   "execution_count": null,
   "id": "60bf4013",
   "metadata": {},
   "outputs": [],
   "source": [
    "N = 10\n",
    "r = 0\n",
    "for _ in range(N):\n",
    "    r += run()\n",
    "    \n",
    "print('Refuerzo medio', r/N)"
   ]
  },
  {
   "cell_type": "markdown",
   "id": "f7ff5933",
   "metadata": {},
   "source": [
    "#### ¿No has tenido bastante?\n",
    "\n",
    "Prueba a controlar el flappy bird https://github.com/markub3327/flappy-bird-gymnasium\n",
    "\n",
    "pip install flappy-bird-gymnasium\n",
    "\n",
    "import flappy_bird_gymnasium  \n",
    "env = gym.make(\"FlappyBird-v0\")\n",
    "\n",
    "Estado (12 variables):\n",
    "  * the last pipe's horizontal position\n",
    "  * the last top pipe's vertical position\n",
    "  * the last bottom pipe's vertical position\n",
    "  * the next pipe's horizontal position\n",
    "  * the next top pipe's vertical position\n",
    "  * he next bottom pipe's vertical position\n",
    "  * the next next pipe's horizontal position\n",
    "  * the next next top pipe's vertical position\n",
    "  * the next next bottom pipe's vertical position\n",
    "  * player's vertical position\n",
    "  * player's vertical velocity\n",
    "  * player's rotation\n",
    "\n",
    "  Acciones:\n",
    "  * 0 -> no hacer nada\n",
    "  * 1 -> volar"
   ]
  }
 ],
 "metadata": {
  "kernelspec": {
   "display_name": "Python 3 (ipykernel)",
   "language": "python",
   "name": "python3"
  },
  "language_info": {
   "codemirror_mode": {
    "name": "ipython",
    "version": 3
   },
   "file_extension": ".py",
   "mimetype": "text/x-python",
   "name": "python",
   "nbconvert_exporter": "python",
   "pygments_lexer": "ipython3",
   "version": "3.9.6"
  }
 },
 "nbformat": 4,
 "nbformat_minor": 5
}
