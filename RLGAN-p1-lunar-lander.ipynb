{
 "cells": [
  {
   "attachments": {},
   "cell_type": "markdown",
   "id": "3ce62d5d",
   "metadata": {},
   "source": [
    "### Documentación\n",
    "\n",
    "Problemas interesantes para Aprendizaje por refuerzo\n",
    " * Gymnasium: https://gymnasium.farama.org/environments/box2d/"
   ]
  },
  {
   "attachments": {},
   "cell_type": "markdown",
   "id": "57c172cf-929c-4be0-b79e-d3da9d17c343",
   "metadata": {},
   "source": [
    "## Instalación\n",
    "\n",
    "!pip install gymnasium  \n",
    "!pip install gymnasium[box2d] \n",
    "\n",
    "## Acciones adicionales\n",
    "\n",
    "### En macos\n",
    "\n",
    "pip uninstall swig  \n",
    "xcode-select -—install (si no se tienen ya)  \n",
    "pip install swig  / sudo port install swig-python\n",
    "pip install 'gymnasium[box2d]' # en zsh hay que poner las comillas  \n",
    "\n",
    "### en Windows\n",
    "\n",
    "Si da error, se debe a la falta de la versión correcta de Microsoft Visual C++ Build Tools, que es una dependencia de Box2D. Para solucionar este problema, puede seguir los siguientes pasos:  \n",
    " * Descargar Microsoft Visual C++ Build Tools desde https://visualstudio.microsoft.com/visual-cpp-build-tools/.\n",
    " * Dentro de la app, seleccione la opción \"Herramientas de compilación de C++\" para instalar.\n",
    " * Reinicie su sesión en Jupyter Notebook.\n",
    " * Ejecute nuevamente el comando !pip install gymnasium[box2d] en la línea de comandos de su notebook."
   ]
  },
  {
   "cell_type": "code",
   "execution_count": 1,
   "id": "009a1617",
   "metadata": {},
   "outputs": [],
   "source": [
    "import gymnasium as gym\n",
    "import gymnasium.utils.play\n",
    "import numpy as np\n",
    "import pygame\n",
    "\n",
    "from MLP import MLP"
   ]
  },
  {
   "cell_type": "markdown",
   "id": "a58b3132",
   "metadata": {},
   "source": [
    "## **Human play**"
   ]
  },
  {
   "cell_type": "code",
   "execution_count": 13,
   "id": "e2e7a384-a993-4330-b213-03d2f02ed3ab",
   "metadata": {},
   "outputs": [],
   "source": [
    "# prueba lunar lander por humano\n",
    "env = gym.make(\"LunarLander-v3\", render_mode=\"rgb_array\")\n",
    "\n",
    "lunar_lander_keys = {\n",
    "    (pygame.K_UP,): 2,\n",
    "    (pygame.K_LEFT,): 1,\n",
    "    (pygame.K_RIGHT,): 3,\n",
    "}\n",
    "gymnasium.utils.play.play(env, zoom=1.5, keys_to_action=lunar_lander_keys, noop=0)"
   ]
  },
  {
   "cell_type": "markdown",
   "id": "8e00bab2",
   "metadata": {},
   "source": [
    "## **Auto-play**"
   ]
  },
  {
   "cell_type": "code",
   "execution_count": 14,
   "id": "2be0d5d2",
   "metadata": {},
   "outputs": [],
   "source": [
    "env = gym.make(\"LunarLander-v3\", render_mode=\"human\")\n",
    "observation, info = env.reset(seed=42)\n",
    "for _ in range(1000):\n",
    "    action = env.action_space.sample()\n",
    "    observation, reward, terminated, truncated, info = env.step(action)\n",
    "    if terminated or truncated:\n",
    "        observation, info = env.reset()\n",
    "env.close()"
   ]
  },
  {
   "cell_type": "markdown",
   "id": "28c35793",
   "metadata": {},
   "source": [
    "----"
   ]
  },
  {
   "cell_type": "markdown",
   "id": "4d3838a6",
   "metadata": {},
   "source": [
    "## **Agent play**"
   ]
  },
  {
   "cell_type": "code",
   "execution_count": 2,
   "id": "872b9955",
   "metadata": {},
   "outputs": [],
   "source": [
    "# construir modelo\n",
    "model = MLP(layers=(8,16,4))\n",
    "ch = model.to_chromosome()\n",
    "model.from_chromosome(ch)\n",
    "\n",
    "# pasar al modelo los pesos del mejor cromosoma obtenido con neuroevolución\n",
    "\n",
    "# definir política\n",
    "def policy(observation):\n",
    "    s = model.forward(observation)\n",
    "    action = np.argmax(s)\n",
    "    return action"
   ]
  },
  {
   "cell_type": "code",
   "execution_count": 3,
   "id": "40a50806",
   "metadata": {},
   "outputs": [
    {
     "name": "stdout",
     "output_type": "stream",
     "text": [
      "racum: -183.26768556205383\n",
      "reward: 0.03346462887589235\n"
     ]
    },
    {
     "data": {
      "text/plain": [
       "np.float64(-183.26768556205383)"
      ]
     },
     "execution_count": 3,
     "metadata": {},
     "output_type": "execute_result"
    }
   ],
   "source": [
    "# prueba lunar lander por agente\n",
    "env = gym.make(\"LunarLander-v3\", render_mode=\"human\")\n",
    "\n",
    "def run ():\n",
    "    #observation, info = env.reset(seed=42)\n",
    "    observation, info = env.reset()\n",
    "    ite = 0\n",
    "    racum = 0\n",
    "    while True:\n",
    "        action = policy(observation)\n",
    "        observation, reward, terminated, truncated, info = env.step(action)\n",
    "        \n",
    "        racum += reward\n",
    "\n",
    "        if terminated or truncated:\n",
    "            r = (racum+200) / 500\n",
    "            print(\"racum:\", racum)\n",
    "            print(\"reward:\", r)\n",
    "            return racum\n",
    "run()"
   ]
  },
  {
   "cell_type": "code",
   "execution_count": 4,
   "id": "60bf4013",
   "metadata": {},
   "outputs": [
    {
     "name": "stdout",
     "output_type": "stream",
     "text": [
      "racum: -156.09736370590616\n",
      "reward: 0.08780527258818768\n",
      "racum: -185.63222638293763\n",
      "reward: 0.028735547234124737\n",
      "racum: -142.63723876920005\n",
      "reward: 0.1147255224615999\n",
      "racum: -107.58233224627372\n",
      "reward: 0.18483533550745254\n",
      "racum: -106.8148285502296\n",
      "reward: 0.1863703428995408\n",
      "racum: -140.14049188636073\n",
      "reward: 0.11971901622727853\n",
      "racum: -89.3440127365786\n",
      "reward: 0.2213119745268428\n",
      "racum: -13.946091151867904\n",
      "reward: 0.37210781769626416\n",
      "racum: -91.77715274461056\n",
      "reward: 0.21644569451077889\n",
      "racum: -158.52779515534505\n",
      "reward: 0.08294440968930991\n",
      "Refuerzo medio -119.249953332931\n"
     ]
    }
   ],
   "source": [
    "N = 10\n",
    "r = 0\n",
    "for _ in range(N):\n",
    "    r += run()\n",
    "    \n",
    "print('Refuerzo medio', r/N)"
   ]
  },
  {
   "cell_type": "markdown",
   "id": "f7ff5933",
   "metadata": {},
   "source": [
    "#### ¿No has tenido bastante?\n",
    "\n",
    "Prueba a controlar el flappy bird https://github.com/markub3327/flappy-bird-gymnasium\n",
    "\n",
    "pip install flappy-bird-gymnasium\n",
    "\n",
    "import flappy_bird_gymnasium  \n",
    "env = gym.make(\"FlappyBird-v0\")\n",
    "\n",
    "Estado (12 variables):\n",
    "  * the last pipe's horizontal position\n",
    "  * the last top pipe's vertical position\n",
    "  * the last bottom pipe's vertical position\n",
    "  * the next pipe's horizontal position\n",
    "  * the next top pipe's vertical position\n",
    "  * he next bottom pipe's vertical position\n",
    "  * the next next pipe's horizontal position\n",
    "  * the next next top pipe's vertical position\n",
    "  * the next next bottom pipe's vertical position\n",
    "  * player's vertical position\n",
    "  * player's vertical velocity\n",
    "  * player's rotation\n",
    "\n",
    "  Acciones:\n",
    "  * 0 -> no hacer nada\n",
    "  * 1 -> volar"
   ]
  }
 ],
 "metadata": {
  "kernelspec": {
   "display_name": ".venv",
   "language": "python",
   "name": "python3"
  },
  "language_info": {
   "codemirror_mode": {
    "name": "ipython",
    "version": 3
   },
   "file_extension": ".py",
   "mimetype": "text/x-python",
   "name": "python",
   "nbconvert_exporter": "python",
   "pygments_lexer": "ipython3",
   "version": "3.11.6"
  }
 },
 "nbformat": 4,
 "nbformat_minor": 5
}
