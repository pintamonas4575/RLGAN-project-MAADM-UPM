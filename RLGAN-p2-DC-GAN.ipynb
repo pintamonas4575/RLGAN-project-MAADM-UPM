{
 "cells": [
  {
   "cell_type": "markdown",
   "metadata": {
    "id": "rF2x3qooyBTI"
   },
   "source": [
    "# **DC-GAN** (**D**eep **C**onvolutional **G**enerative **A**dversarial **N**etwork)"
   ]
  },
  {
   "cell_type": "code",
   "execution_count": 1,
   "metadata": {
    "id": "YfIk2es3hJEd"
   },
   "outputs": [
    {
     "name": "stdout",
     "output_type": "stream",
     "text": [
      "TF version: 2.9.0\n",
      "[PhysicalDevice(name='/physical_device:GPU:0', device_type='GPU')]\n"
     ]
    }
   ],
   "source": [
    "import tensorflow as tf\n",
    "import matplotlib.pyplot as plt\n",
    "import numpy as np\n",
    "import os\n",
    "import time\n",
    "import glob\n",
    "from PIL import Image\n",
    "from keras.datasets import mnist\n",
    "from keras.layers import Dense, Flatten, Conv2D\n",
    "from keras.layers import Reshape, Conv2DTranspose, ReLU, LeakyReLU, Dropout, BatchNormalization\n",
    "from keras.losses import BinaryCrossentropy\n",
    "from keras.optimizers import Adam\n",
    "from keras.models import Sequential\n",
    "\n",
    "print(\"TF version:\", tf.__version__)\n",
    "print(tf.config.list_physical_devices('GPU'))"
   ]
  },
  {
   "cell_type": "markdown",
   "metadata": {
    "id": "iYn4MdZnKCey"
   },
   "source": [
    "## **1. Load and prepare the dataset**\n",
    "\n",
    "You will use the MNIST dataset to train the generator and the discriminator. The generator will generate handwritten digits resembling the MNIST data."
   ]
  },
  {
   "cell_type": "code",
   "execution_count": 2,
   "metadata": {
    "colab": {
     "base_uri": "https://localhost:8080/"
    },
    "id": "a4fYMGxGhrna",
    "outputId": "a71f9883-1f95-4e36-ca72-cbd43a477617"
   },
   "outputs": [],
   "source": [
    "(train_images, train_labels), (_, _) = mnist.load_data()\n",
    "\n",
    "train_images = train_images.reshape(train_images.shape[0], 28, 28, 1).astype('float32')\n",
    "train_images = (train_images) / 255  # Normalize the images to [0, 1]\n",
    "\n",
    "BUFFER_SIZE = 60000\n",
    "BATCH_SIZE = 256\n",
    "\n",
    "train_dataset = tf.data.Dataset.from_tensor_slices(train_images).shuffle(BUFFER_SIZE).batch(BATCH_SIZE)"
   ]
  },
  {
   "cell_type": "markdown",
   "metadata": {
    "id": "THY-sZMiQ4UV"
   },
   "source": [
    "## **2. Create the models**\n",
    "\n",
    "Both the generator and discriminator are defined using the [Keras Sequential API](https://www.tensorflow.org/guide/keras#sequential_model)."
   ]
  },
  {
   "cell_type": "code",
   "execution_count": 3,
   "metadata": {},
   "outputs": [],
   "source": [
    "noise_dim = 100 #100"
   ]
  },
  {
   "cell_type": "markdown",
   "metadata": {
    "id": "-tEyxE-GMC48"
   },
   "source": [
    "### The Generator\n"
   ]
  },
  {
   "cell_type": "code",
   "execution_count": 4,
   "metadata": {},
   "outputs": [
    {
     "name": "stdout",
     "output_type": "stream",
     "text": [
      "Model: \"DCGAN_Generator_Model\"\n",
      "_________________________________________________________________\n",
      " Layer (type)                Output Shape              Param #   \n",
      "=================================================================\n",
      " reshape (Reshape)           (None, 1, 1, 100)         0         \n",
      "                                                                 \n",
      " conv2d_transpose (Conv2DTra  (None, 3, 3, 256)        230656    \n",
      " nspose)                                                         \n",
      "                                                                 \n",
      " batch_normalization (BatchN  (None, 3, 3, 256)        1024      \n",
      " ormalization)                                                   \n",
      "                                                                 \n",
      " re_lu (ReLU)                (None, 3, 3, 256)         0         \n",
      "                                                                 \n",
      " conv2d_transpose_1 (Conv2DT  (None, 7, 7, 128)        295040    \n",
      " ranspose)                                                       \n",
      "                                                                 \n",
      " batch_normalization_1 (Batc  (None, 7, 7, 128)        512       \n",
      " hNormalization)                                                 \n",
      "                                                                 \n",
      " re_lu_1 (ReLU)              (None, 7, 7, 128)         0         \n",
      "                                                                 \n",
      " conv2d_transpose_2 (Conv2DT  (None, 14, 14, 64)       73792     \n",
      " ranspose)                                                       \n",
      "                                                                 \n",
      " batch_normalization_2 (Batc  (None, 14, 14, 64)       256       \n",
      " hNormalization)                                                 \n",
      "                                                                 \n",
      " re_lu_2 (ReLU)              (None, 14, 14, 64)        0         \n",
      "                                                                 \n",
      " conv2d_transpose_3 (Conv2DT  (None, 28, 28, 1)        577       \n",
      " ranspose)                                                       \n",
      "                                                                 \n",
      "=================================================================\n",
      "Total params: 601,857\n",
      "Trainable params: 600,961\n",
      "Non-trainable params: 896\n",
      "_________________________________________________________________\n"
     ]
    }
   ],
   "source": [
    "def make_generator_model(noise_dim: int) -> Sequential:\n",
    "    model = Sequential(name=\"DCGAN_Generator_Model\")\n",
    "    \n",
    "    # Reshape the input noise vector into a 4D tensor\n",
    "    # model.add(Reshape((1, 1, 64), input_shape=(noise_dim,)))\n",
    "    model.add(Reshape((1, 1, noise_dim), input_shape=(noise_dim,)))\n",
    "    \n",
    "    # First Conv2DTranspose layer\n",
    "    model.add(Conv2DTranspose(256, kernel_size=(3, 3), strides=(2, 2), padding='valid'))\n",
    "    # model.add(Conv2DTranspose(256, kernel_size=(3, 3), strides=(2, 2), padding='same'))\n",
    "    model.add(BatchNormalization())\n",
    "    model.add(ReLU())\n",
    "    \n",
    "    # Second Conv2DTranspose layer\n",
    "    model.add(Conv2DTranspose(128, kernel_size=(3, 3), strides=(2, 2), padding='valid'))\n",
    "    # model.add(Conv2DTranspose(128, kernel_size=(3, 3), strides=(2, 2), padding='same'))\n",
    "    model.add(BatchNormalization())\n",
    "    model.add(ReLU())\n",
    "    \n",
    "    # Third Conv2DTranspose layer\n",
    "    model.add(Conv2DTranspose(64, kernel_size=(3, 3), strides=(2, 2), padding='same'))\n",
    "    model.add(BatchNormalization())\n",
    "    model.add(ReLU())\n",
    "    \n",
    "    # Final Conv2DTranspose layer to produce the output image\n",
    "    model.add(Conv2DTranspose(1, kernel_size=(3, 3), strides=(2, 2), padding='same', activation='tanh'))\n",
    "    \n",
    "    return model\n",
    "\n",
    "generator = make_generator_model(noise_dim)\n",
    "generator.summary()"
   ]
  },
  {
   "cell_type": "markdown",
   "metadata": {
    "id": "GyWgG09LCSJl"
   },
   "source": [
    "Use the (as yet untrained) generator to create an image."
   ]
  },
  {
   "cell_type": "code",
   "execution_count": 5,
   "metadata": {
    "colab": {
     "base_uri": "https://localhost:8080/",
     "height": 448
    },
    "id": "gl7jcC7TdPTG",
    "outputId": "106ab54b-414f-4239-b319-377916d68514"
   },
   "outputs": [
    {
     "data": {
      "image/png": "[encoded data removed]",
      "text/plain": [
       "<Figure size 640x480 with 1 Axes>"
      ]
     },
     "metadata": {},
     "output_type": "display_data"
    }
   ],
   "source": [
    "noise = tf.random.normal([1, noise_dim])\n",
    "generated_image = generator(noise, training=False)\n",
    "\n",
    "# normaliza los valores de la imagen antes de mostrarla\n",
    "plt.imshow(generated_image[0, :, :, 0], cmap='gray')\n",
    "plt.show()"
   ]
  },
  {
   "cell_type": "markdown",
   "metadata": {
    "id": "D0IKnaCtg6WE"
   },
   "source": [
    "### The Discriminator"
   ]
  },
  {
   "cell_type": "code",
   "execution_count": 6,
   "metadata": {},
   "outputs": [
    {
     "name": "stdout",
     "output_type": "stream",
     "text": [
      "Model: \"DCGAN_Discriminator_Model\"\n",
      "_________________________________________________________________\n",
      " Layer (type)                Output Shape              Param #   \n",
      "=================================================================\n",
      " conv2d (Conv2D)             (None, 14, 14, 16)        160       \n",
      "                                                                 \n",
      " batch_normalization_3 (Batc  (None, 14, 14, 16)       64        \n",
      " hNormalization)                                                 \n",
      "                                                                 \n",
      " leaky_re_lu (LeakyReLU)     (None, 14, 14, 16)        0         \n",
      "                                                                 \n",
      " dropout (Dropout)           (None, 14, 14, 16)        0         \n",
      "                                                                 \n",
      " conv2d_1 (Conv2D)           (None, 7, 7, 32)          4640      \n",
      "                                                                 \n",
      " batch_normalization_4 (Batc  (None, 7, 7, 32)         128       \n",
      " hNormalization)                                                 \n",
      "                                                                 \n",
      " leaky_re_lu_1 (LeakyReLU)   (None, 7, 7, 32)          0         \n",
      "                                                                 \n",
      " dropout_1 (Dropout)         (None, 7, 7, 32)          0         \n",
      "                                                                 \n",
      " conv2d_2 (Conv2D)           (None, 4, 4, 32)          9248      \n",
      "                                                                 \n",
      " batch_normalization_5 (Batc  (None, 4, 4, 32)         128       \n",
      " hNormalization)                                                 \n",
      "                                                                 \n",
      " leaky_re_lu_2 (LeakyReLU)   (None, 4, 4, 32)          0         \n",
      "                                                                 \n",
      " dropout_2 (Dropout)         (None, 4, 4, 32)          0         \n",
      "                                                                 \n",
      " flatten (Flatten)           (None, 512)               0         \n",
      "                                                                 \n",
      " dense (Dense)               (None, 1)                 513       \n",
      "                                                                 \n",
      "=================================================================\n",
      "Total params: 14,881\n",
      "Trainable params: 14,721\n",
      "Non-trainable params: 160\n",
      "_________________________________________________________________\n"
     ]
    }
   ],
   "source": [
    "def make_discriminator_model() -> Sequential:\n",
    "    model = Sequential(name=\"DCGAN_Discriminator_Model\")\n",
    "    \n",
    "    # First Conv2D layer\n",
    "    model.add(Conv2D(16, kernel_size=(3, 3), strides=(2, 2), padding='same', input_shape=[28, 28, 1]))\n",
    "    model.add(BatchNormalization())\n",
    "    model.add(LeakyReLU())\n",
    "    model.add(Dropout(0.25))\n",
    "    \n",
    "    # Second Conv2D layer\n",
    "    model.add(Conv2D(32, kernel_size=(3, 3), strides=(2, 2), padding='same'))\n",
    "    model.add(BatchNormalization())\n",
    "    model.add(LeakyReLU())\n",
    "    model.add(Dropout(0.25))\n",
    "    \n",
    "    # Third Conv2D layer\n",
    "    model.add(Conv2D(32, kernel_size=(3, 3), strides=(2, 2), padding='same'))\n",
    "    model.add(BatchNormalization())\n",
    "    model.add(LeakyReLU())\n",
    "    model.add(Dropout(0.25))\n",
    "    \n",
    "    model.add(Flatten())\n",
    "    model.add(Dense(1, activation='sigmoid'))\n",
    "    \n",
    "    return model\n",
    "\n",
    "discriminator = make_discriminator_model()\n",
    "discriminator.summary()"
   ]
  },
  {
   "cell_type": "markdown",
   "metadata": {
    "id": "QhPneagzCaQv"
   },
   "source": [
    "Use the (as yet untrained) discriminator to classify the generated images as real or fake. The model will be trained to output positive values for real images, and negative values for fake images."
   ]
  },
  {
   "cell_type": "code",
   "execution_count": 7,
   "metadata": {
    "colab": {
     "base_uri": "https://localhost:8080/"
    },
    "id": "gDkA05NE6QMs",
    "outputId": "b79db03b-f072-4abd-93d1-4fe2690f1037"
   },
   "outputs": [
    {
     "name": "stdout",
     "output_type": "stream",
     "text": [
      "tf.Tensor([[0.49967298]], shape=(1, 1), dtype=float32)\n"
     ]
    }
   ],
   "source": [
    "decision = discriminator(generated_image)\n",
    "print(decision)"
   ]
  },
  {
   "cell_type": "markdown",
   "metadata": {
    "id": "0FMYgY_mPfTi"
   },
   "source": [
    "## **3. Define the loss and optimizers**\n",
    "\n",
    "Define loss functions and optimizers for both models.\n"
   ]
  },
  {
   "cell_type": "code",
   "execution_count": 8,
   "metadata": {
    "id": "psQfmXxYKU3X"
   },
   "outputs": [],
   "source": [
    "# This method returns a helper function to compute cross entropy loss\n",
    "cross_entropy = BinaryCrossentropy()"
   ]
  },
  {
   "cell_type": "markdown",
   "metadata": {
    "id": "PKY_iPSPNWoj"
   },
   "source": [
    "### Discriminator loss\n",
    "\n",
    "This method quantifies how well the discriminator is able to distinguish real images from fakes. It compares the discriminator's predictions on real images to an array of 1s, and the discriminator's predictions on fake (generated) images to an array of 0s."
   ]
  },
  {
   "cell_type": "code",
   "execution_count": 9,
   "metadata": {
    "id": "wkMNfBWlT-PV"
   },
   "outputs": [],
   "source": [
    "def discriminator_loss(disc_real_output: tf.Tensor, disc_fake_output: tf.Tensor) -> tf.Tensor:\n",
    "    real_loss = cross_entropy(tf.ones_like(disc_real_output), disc_real_output)\n",
    "    fake_loss = cross_entropy(tf.zeros_like(disc_fake_output), disc_fake_output)\n",
    "    total_loss = real_loss + fake_loss\n",
    "    return total_loss"
   ]
  },
  {
   "cell_type": "markdown",
   "metadata": {
    "id": "Jd-3GCUEiKtv"
   },
   "source": [
    "### Generator loss\n",
    "The generator's loss quantifies how well it was able to trick the discriminator. Intuitively, if the generator is performing well, the discriminator will classify the fake images as real (or 1). Here, compare the discriminators decisions on the generated images to an array of 1s."
   ]
  },
  {
   "cell_type": "code",
   "execution_count": 10,
   "metadata": {
    "id": "90BIcCKcDMxz"
   },
   "outputs": [],
   "source": [
    "def generator_loss(disc_fake_output: tf.Tensor) -> tf.Tensor:\n",
    "    return cross_entropy(tf.ones_like(disc_fake_output), disc_fake_output)"
   ]
  },
  {
   "cell_type": "markdown",
   "metadata": {
    "id": "MgIc7i0th_Iu"
   },
   "source": [
    "The discriminator and the generator optimizers are different since you will train two networks separately."
   ]
  },
  {
   "cell_type": "code",
   "execution_count": 11,
   "metadata": {
    "id": "iWCn_PVdEJZ7"
   },
   "outputs": [],
   "source": [
    "generator_optimizer = Adam(1e-4)\n",
    "discriminator_optimizer = Adam(1e-4)"
   ]
  },
  {
   "cell_type": "markdown",
   "metadata": {
    "id": "mWtinsGDPJlV"
   },
   "source": [
    "### Save checkpoints\n",
    "This notebook also demonstrates how to save and restore models, which can be helpful in case a long running training task is interrupted."
   ]
  },
  {
   "cell_type": "code",
   "execution_count": 12,
   "metadata": {
    "id": "CA1w-7s2POEy"
   },
   "outputs": [],
   "source": [
    "checkpoint_dir = 'results_p2/DC_GAN/training_checkpoints'\n",
    "checkpoint_prefix = os.path.join(checkpoint_dir, \"ckpt\")\n",
    "checkpoint = tf.train.Checkpoint(generator_optimizer=generator_optimizer,\n",
    "                                 discriminator_optimizer=discriminator_optimizer,\n",
    "                                 generator=generator,\n",
    "                                 discriminator=discriminator)"
   ]
  },
  {
   "cell_type": "markdown",
   "metadata": {
    "id": "Rw1fkAczTQYh"
   },
   "source": [
    "## **4. Define the training loop**\n"
   ]
  },
  {
   "cell_type": "markdown",
   "metadata": {
    "id": "jylSonrqSWfi"
   },
   "source": [
    "The training loop begins with generator receiving a random seed as input. That seed is used to produce an image. The discriminator is then used to classify real images (drawn from the training set) and fakes images (produced by the generator). The loss is calculated for each of these models, and the gradients are used to update the generator and discriminator."
   ]
  },
  {
   "cell_type": "code",
   "execution_count": 13,
   "metadata": {},
   "outputs": [],
   "source": [
    "num_examples_to_generate = 16\n",
    "\n",
    "# You will reuse this seed overtime \n",
    "# (so it's easier to visualize progress in the animated GIF)\n",
    "seed = tf.random.normal([num_examples_to_generate, noise_dim])\n",
    "\n",
    "@tf.function\n",
    "def train_step(images: tf.Tensor) -> None:\n",
    "    noise = tf.random.normal([BATCH_SIZE, noise_dim])\n",
    "\n",
    "    with tf.GradientTape() as gen_tape, tf.GradientTape() as disc_tape:     \n",
    "        generated_images = generator(noise, training=True)\n",
    "        \n",
    "        disc_real_output = discriminator(images, training=True)\n",
    "        disc_fake_outputs = discriminator(generated_images, training=True)\n",
    "\n",
    "        gen_loss = generator_loss(disc_fake_outputs)\n",
    "        disc_loss = discriminator_loss(disc_real_output, disc_fake_outputs)\n",
    "\n",
    "    gradients_of_generator = gen_tape.gradient(gen_loss, generator.trainable_variables)\n",
    "    gradients_of_discriminator = disc_tape.gradient(disc_loss, discriminator.trainable_variables)\n",
    "    generator_optimizer.apply_gradients(zip(gradients_of_generator, generator.trainable_variables))\n",
    "    discriminator_optimizer.apply_gradients(zip(gradients_of_discriminator, discriminator.trainable_variables))\n",
    "\n",
    "    return gen_loss, disc_loss"
   ]
  },
  {
   "cell_type": "markdown",
   "metadata": {
    "id": "2aFF7Hk3XdeW"
   },
   "source": [
    "**Generate and save images**"
   ]
  },
  {
   "cell_type": "code",
   "execution_count": 14,
   "metadata": {
    "id": "RmdVsmvhPxyy"
   },
   "outputs": [],
   "source": [
    "def generate_and_save_images(model: Sequential, epoch: int, test_input: np.ndarray, show_figure: bool) -> None:\n",
    "    # Notice 'training' is set to False.\n",
    "    # This is so all layers run in inference mode (batchnorm).\n",
    "    predictions: np.ndarray = model(test_input, training=False)\n",
    "\n",
    "    plt.figure(figsize=(4, 4))\n",
    "    for i in range(predictions.shape[0]):\n",
    "        plt.subplot(4, 4, i+1)\n",
    "        plt.imshow(predictions[i, :, :, 0] * 255, cmap=\"gray\")\n",
    "        plt.axis(\"off\")\n",
    "\n",
    "    plt.savefig(f\"results_p2/DC_GAN/epochs/DCGAN_epoch_{epoch:03d}.png\")\n",
    "    if show_figure:\n",
    "        plt.show()\n",
    "    plt.close()"
   ]
  },
  {
   "cell_type": "code",
   "execution_count": 15,
   "metadata": {},
   "outputs": [],
   "source": [
    "def train(dataset: tf.data.Dataset, epochs: int, trace: int) -> None:\n",
    "    gen_loss_history = []\n",
    "    disc_loss_history = []\n",
    "    total_start = time.time()\n",
    "    for epoch in range(epochs):\n",
    "        start = time.time()\n",
    "\n",
    "        gen_episode_loss = 0\n",
    "        disc_episode_loss = 0\n",
    "\n",
    "        for image_batch in dataset:\n",
    "            gen_loss, disc_loss = train_step(image_batch)\n",
    "            gen_episode_loss += gen_loss\n",
    "            disc_episode_loss += disc_loss\n",
    "\n",
    "        generate_and_save_images(model=generator, epoch=epoch, test_input=seed, show_figure=False)\n",
    "\n",
    "        if epoch % trace == 0:\n",
    "            checkpoint.save(file_prefix=checkpoint_prefix)\n",
    "            print(f'Epoch {epoch}: {time.time()-start:.2f} secs, gen loss: {gen_episode_loss / BATCH_SIZE}, disc loss: {disc_episode_loss / BATCH_SIZE}')\n",
    "\n",
    "        gen_loss_history.append(gen_episode_loss / BATCH_SIZE)\n",
    "        disc_loss_history.append(disc_episode_loss / BATCH_SIZE)\n",
    "\n",
    "    generate_and_save_images(model=generator, epoch=epochs, test_input=seed, show_figure=True)\n",
    "    minutos, segundos = divmod(time.time()-total_start, 60)\n",
    "    print(f\"*******Total training time: {int(minutos)} mins y {segundos:.2f} secs*******\")\n",
    "\n",
    "    return gen_loss_history, disc_loss_history"
   ]
  },
  {
   "cell_type": "markdown",
   "metadata": {
    "id": "dZrd4CdjR-Fp"
   },
   "source": [
    "## **5. Train the model**\n",
    "Call the `train()` method defined above to train the generator and discriminator simultaneously. Note, training GANs can be tricky. It's important that the generator and discriminator do not overpower each other (e.g., that they train at a similar rate).\n",
    "\n",
    "At the beginning of the training, the generated images look like random noise. As training progresses, the generated digits will look increasingly real. After about 50 epochs, they resemble MNIST digits. This may take about one minute / epoch with the default settings on Colab."
   ]
  },
  {
   "cell_type": "code",
   "execution_count": 16,
   "metadata": {
    "colab": {
     "base_uri": "https://localhost:8080/",
     "height": 363
    },
    "id": "Ly3UN0SLLY2l",
    "outputId": "dd6107d6-2b1b-43ca-89ea-e985b64f6e1a"
   },
   "outputs": [
    {
     "name": "stdout",
     "output_type": "stream",
     "text": [
      "Epoch 0: 3.83 secs, gen loss: 0.22601452469825745, disc loss: 2.307095766067505\n",
      "Epoch 50: 1.97 secs, gen loss: 2.256507158279419, disc loss: 0.4792047142982483\n",
      "Epoch 100: 1.80 secs, gen loss: 1.187548279762268, disc loss: 0.9603380560874939\n",
      "Epoch 150: 1.84 secs, gen loss: 0.878816545009613, disc loss: 1.1177279949188232\n",
      "Epoch 200: 1.81 secs, gen loss: 0.7879250049591064, disc loss: 1.1709082126617432\n",
      "Epoch 250: 1.81 secs, gen loss: 0.732822835445404, disc loss: 1.2180668115615845\n",
      "Epoch 300: 1.82 secs, gen loss: 0.7063713073730469, disc loss: 1.2313268184661865\n",
      "Epoch 350: 1.83 secs, gen loss: 0.6959706544876099, disc loss: 1.2340319156646729\n",
      "Epoch 400: 1.82 secs, gen loss: 0.6782490015029907, disc loss: 1.2502690553665161\n",
      "Epoch 450: 2.32 secs, gen loss: 0.6637135148048401, disc loss: 1.2579323053359985\n"
     ]
    },
    {
     "data": {
      "image/png": "[encoded data removed]",
      "text/plain": [
       "<Figure size 400x400 with 16 Axes>"
      ]
     },
     "metadata": {},
     "output_type": "display_data"
    },
    {
     "name": "stdout",
     "output_type": "stream",
     "text": [
      "*******Total training time: 14 mins y 52.14 secs*******\n"
     ]
    }
   ],
   "source": [
    "EPOCHS = 500\n",
    "trace = 50\n",
    "gen_loss_history, disc_loss_history = train(train_dataset, EPOCHS, trace)"
   ]
  },
  {
   "cell_type": "markdown",
   "metadata": {},
   "source": [
    "## **GAN losses history**"
   ]
  },
  {
   "cell_type": "code",
   "execution_count": 17,
   "metadata": {},
   "outputs": [
    {
     "data": {
      "image/png": "[encoded data removed]",
      "text/plain": [
       "<Figure size 1000x500 with 1 Axes>"
      ]
     },
     "metadata": {},
     "output_type": "display_data"
    }
   ],
   "source": [
    "def plot_loss(gen_loss: list, disc_loss: list) -> None:\n",
    "    plt.figure(figsize=(10, 5))\n",
    "    plt.plot(gen_loss, label=\"Generator Loss\", color=\"blue\")\n",
    "    plt.plot(disc_loss, label=\"Discriminator Loss\", color=\"red\")\n",
    "    plt.xlabel(\"Epochs\")\n",
    "    plt.ylabel(\"Loss\")\n",
    "    plt.legend()\n",
    "    plt.savefig(f\"results_p2/DCGAN_{EPOCHS}_loss_history.png\")\n",
    "    plt.show()\n",
    "\n",
    "plot_loss(gen_loss_history, disc_loss_history)"
   ]
  },
  {
   "cell_type": "markdown",
   "metadata": {
    "id": "rfM4YcPVPkNO"
   },
   "source": [
    "**Restore the latest checkpoint.**"
   ]
  },
  {
   "cell_type": "code",
   "execution_count": null,
   "metadata": {
    "id": "XhXsd0srPo8c"
   },
   "outputs": [],
   "source": [
    "checkpoint.restore(tf.train.latest_checkpoint(checkpoint_dir))"
   ]
  },
  {
   "cell_type": "markdown",
   "metadata": {
    "id": "P4M_vIbUi7c0"
   },
   "source": [
    "## **6. Create a GIF**"
   ]
  },
  {
   "cell_type": "code",
   "execution_count": null,
   "metadata": {},
   "outputs": [],
   "source": [
    "def create_gif_from_folder(folder_path: str, output_filename: str, duration: int) -> None:\n",
    "    image_files = sorted(glob.glob(os.path.join(folder_path, \"*.png\")))\n",
    "    frames = [Image.open(file) for file in image_files]\n",
    "    frames[0].save(\n",
    "        output_filename,\n",
    "        save_all=True,\n",
    "        append_images=frames[1:],\n",
    "        duration=duration,\n",
    "        loop=1\n",
    "    )\n",
    "\n",
    "create_gif_from_folder(folder_path=\"results_p2/DC_GAN/epochs\", output_filename=f\"results_p2/DCGAN_{EPOCHS}_results.gif\", duration=30)"
   ]
  },
  {
   "cell_type": "markdown",
   "metadata": {},
   "source": [
    "**Remove all folder images**"
   ]
  },
  {
   "cell_type": "code",
   "execution_count": 27,
   "metadata": {},
   "outputs": [
    {
     "name": "stdout",
     "output_type": "stream",
     "text": [
      "Removed 0 jpeg images from results_p2/DC_GAN/epochs\n"
     ]
    }
   ],
   "source": [
    "def remove_all_images(folder: str, extension: str = 'jpeg') -> None:\n",
    "    image_files = glob.glob(os.path.join(folder, f'*.{extension}'))\n",
    "    for image_file in image_files:\n",
    "        os.remove(image_file)\n",
    "    print(f\"Removed {len(image_files)} {extension} images from {folder}\")\n",
    "\n",
    "remove_all_images('results_p2/DC_GAN/epochs')"
   ]
  }
 ],
 "metadata": {
  "accelerator": "GPU",
  "colab": {
   "name": "dcgan.ipynb",
   "provenance": [],
   "toc_visible": true
  },
  "kernelspec": {
   "display_name": "entorno1",
   "language": "python",
   "name": "python3"
  },
  "language_info": {
   "codemirror_mode": {
    "name": "ipython",
    "version": 3
   },
   "file_extension": ".py",
   "mimetype": "text/x-python",
   "name": "python",
   "nbconvert_exporter": "python",
   "pygments_lexer": "ipython3",
   "version": "3.10.13"
  }
 },
 "nbformat": 4,
 "nbformat_minor": 4
}
